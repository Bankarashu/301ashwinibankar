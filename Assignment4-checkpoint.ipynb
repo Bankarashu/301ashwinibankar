{
 "cells": [
  {
   "cell_type": "code",
   "execution_count": 2,
   "metadata": {},
   "outputs": [],
   "source": [
    "import pandas as pd\n",
    "import matplotlib.pyplot as plt"
   ]
  },
  {
   "cell_type": "code",
   "execution_count": 3,
   "metadata": {},
   "outputs": [
    {
     "name": "stdout",
     "output_type": "stream",
     "text": [
      "     CityName  VehicleTypeId                                    Description  \\\n",
      "0       Surat              1  MOPED/SCOOTER                                   \n",
      "1       Surat              1  MOPED/SCOOTER                                   \n",
      "2       Surat              1  MOPED/SCOOTER                                   \n",
      "3       Surat              1  MOPED/SCOOTER                                   \n",
      "4       Surat              9  LOADING TRUCK/TEMPO/TRACTOR 2 TO 4 TON          \n",
      "...       ...            ...                                            ...   \n",
      "2769    Surat             23                                       FORKLIFT   \n",
      "2770    Surat             26                                            BUS   \n",
      "2771    Surat             29              E-MOPED/E-SCOOTER/E_MOTOR CYCLE     \n",
      "2772    Surat             30                                       E-Others   \n",
      "2773    Surat             31                                      Compactor   \n",
      "\n",
      "      Year  Month  Count    Amount  \n",
      "0     1989      4      2     293.0  \n",
      "1     1989      7      1     162.0  \n",
      "2     1989      8      1     144.0  \n",
      "3     1989     10      1     144.0  \n",
      "4     1989     12      1     216.0  \n",
      "...    ...    ...    ...       ...  \n",
      "2769  2020     10      1   23750.0  \n",
      "2770  2020     10      1  101500.0  \n",
      "2771  2020     10      9    6828.0  \n",
      "2772  2020     10      3   81051.0  \n",
      "2773  2020     10      1   82600.0  \n",
      "\n",
      "[2774 rows x 7 columns]\n"
     ]
    }
   ],
   "source": [
    "df=pd.read_csv(\"datafile.csv\")\n",
    "print(df)"
   ]
  },
  {
   "cell_type": "code",
   "execution_count": 4,
   "metadata": {},
   "outputs": [
    {
     "data": {
      "text/html": [
       "<div>\n",
       "<style scoped>\n",
       "    .dataframe tbody tr th:only-of-type {\n",
       "        vertical-align: middle;\n",
       "    }\n",
       "\n",
       "    .dataframe tbody tr th {\n",
       "        vertical-align: top;\n",
       "    }\n",
       "\n",
       "    .dataframe thead th {\n",
       "        text-align: right;\n",
       "    }\n",
       "</style>\n",
       "<table border=\"1\" class=\"dataframe\">\n",
       "  <thead>\n",
       "    <tr style=\"text-align: right;\">\n",
       "      <th></th>\n",
       "      <th>CityName</th>\n",
       "      <th>VehicleTypeId</th>\n",
       "      <th>Description</th>\n",
       "      <th>Year</th>\n",
       "      <th>Month</th>\n",
       "      <th>Count</th>\n",
       "      <th>Amount</th>\n",
       "    </tr>\n",
       "  </thead>\n",
       "  <tbody>\n",
       "    <tr>\n",
       "      <th>0</th>\n",
       "      <td>Surat</td>\n",
       "      <td>1</td>\n",
       "      <td>MOPED/SCOOTER</td>\n",
       "      <td>1989</td>\n",
       "      <td>4</td>\n",
       "      <td>2</td>\n",
       "      <td>293.0</td>\n",
       "    </tr>\n",
       "    <tr>\n",
       "      <th>1</th>\n",
       "      <td>Surat</td>\n",
       "      <td>1</td>\n",
       "      <td>MOPED/SCOOTER</td>\n",
       "      <td>1989</td>\n",
       "      <td>7</td>\n",
       "      <td>1</td>\n",
       "      <td>162.0</td>\n",
       "    </tr>\n",
       "    <tr>\n",
       "      <th>2</th>\n",
       "      <td>Surat</td>\n",
       "      <td>1</td>\n",
       "      <td>MOPED/SCOOTER</td>\n",
       "      <td>1989</td>\n",
       "      <td>8</td>\n",
       "      <td>1</td>\n",
       "      <td>144.0</td>\n",
       "    </tr>\n",
       "    <tr>\n",
       "      <th>3</th>\n",
       "      <td>Surat</td>\n",
       "      <td>1</td>\n",
       "      <td>MOPED/SCOOTER</td>\n",
       "      <td>1989</td>\n",
       "      <td>10</td>\n",
       "      <td>1</td>\n",
       "      <td>144.0</td>\n",
       "    </tr>\n",
       "    <tr>\n",
       "      <th>4</th>\n",
       "      <td>Surat</td>\n",
       "      <td>9</td>\n",
       "      <td>LOADING TRUCK/TEMPO/TRACTOR 2 TO 4 TON</td>\n",
       "      <td>1989</td>\n",
       "      <td>12</td>\n",
       "      <td>1</td>\n",
       "      <td>216.0</td>\n",
       "    </tr>\n",
       "  </tbody>\n",
       "</table>\n",
       "</div>"
      ],
      "text/plain": [
       "  CityName  VehicleTypeId                                    Description  \\\n",
       "0    Surat              1  MOPED/SCOOTER                                   \n",
       "1    Surat              1  MOPED/SCOOTER                                   \n",
       "2    Surat              1  MOPED/SCOOTER                                   \n",
       "3    Surat              1  MOPED/SCOOTER                                   \n",
       "4    Surat              9  LOADING TRUCK/TEMPO/TRACTOR 2 TO 4 TON          \n",
       "\n",
       "   Year  Month  Count  Amount  \n",
       "0  1989      4      2   293.0  \n",
       "1  1989      7      1   162.0  \n",
       "2  1989      8      1   144.0  \n",
       "3  1989     10      1   144.0  \n",
       "4  1989     12      1   216.0  "
      ]
     },
     "execution_count": 4,
     "metadata": {},
     "output_type": "execute_result"
    }
   ],
   "source": [
    "df.head()"
   ]
  },
  {
   "cell_type": "code",
   "execution_count": 7,
   "metadata": {},
   "outputs": [
    {
     "data": {
      "text/plain": [
       "VehicleTypeId    8.581471e+00\n",
       "Year             2.009959e+03\n",
       "Month            6.412401e+00\n",
       "Count            6.484265e+02\n",
       "Amount           2.159658e+06\n",
       "dtype: float64"
      ]
     },
     "execution_count": 7,
     "metadata": {},
     "output_type": "execute_result"
    }
   ],
   "source": [
    "df.mean()"
   ]
  },
  {
   "cell_type": "code",
   "execution_count": 8,
   "metadata": {},
   "outputs": [
    {
     "data": {
      "text/plain": [
       "CityName                                                 Surat\n",
       "VehicleTypeId                                               31\n",
       "Description      WHEEL DOZER                                  \n",
       "Year                                                      2020\n",
       "Month                                                       12\n",
       "Count                                                    10143\n",
       "Amount                                             8.15494e+07\n",
       "dtype: object"
      ]
     },
     "execution_count": 8,
     "metadata": {},
     "output_type": "execute_result"
    }
   ],
   "source": [
    "df.max()"
   ]
  },
  {
   "cell_type": "code",
   "execution_count": 9,
   "metadata": {},
   "outputs": [
    {
     "name": "stdout",
     "output_type": "stream",
     "text": [
      "0          293.0\n",
      "1          162.0\n",
      "2          144.0\n",
      "3          144.0\n",
      "4          216.0\n",
      "          ...   \n",
      "2769     23750.0\n",
      "2770    101500.0\n",
      "2771      6828.0\n",
      "2772     81051.0\n",
      "2773     82600.0\n",
      "Name: Amount, Length: 2774, dtype: float64\n"
     ]
    }
   ],
   "source": [
    "mean=df.Amount\n",
    "print(mean)"
   ]
  },
  {
   "cell_type": "code",
   "execution_count": 10,
   "metadata": {},
   "outputs": [
    {
     "data": {
      "text/plain": [
       "2159657.8340281285"
      ]
     },
     "execution_count": 10,
     "metadata": {},
     "output_type": "execute_result"
    }
   ],
   "source": [
    "mean.mean()"
   ]
  },
  {
   "cell_type": "code",
   "execution_count": 11,
   "metadata": {},
   "outputs": [
    {
     "data": {
      "text/plain": [
       "81549363.0"
      ]
     },
     "execution_count": 11,
     "metadata": {},
     "output_type": "execute_result"
    }
   ],
   "source": [
    "mean.max()"
   ]
  },
  {
   "cell_type": "code",
   "execution_count": 5,
   "metadata": {},
   "outputs": [
    {
     "data": {
      "image/png": "[encoded data removed]",
      "text/plain": [
       "<Figure size 432x288 with 1 Axes>"
      ]
     },
     "metadata": {
      "needs_background": "light"
     },
     "output_type": "display_data"
    }
   ],
   "source": [
    "X=df[\"Month\"]\n",
    "Y=df[\"Amount\"]\n",
    "plt.bar(X,Y)\n",
    "plt.title(\"Bar Plot\")\n",
    "plt.xlabel(\"Month\")\n",
    "plt.ylabel(\"Amount\")\n",
    "plt.show()"
   ]
  },
  {
   "cell_type": "code",
   "execution_count": 6,
   "metadata": {},
   "outputs": [
    {
     "data": {
      "image/png": "[encoded data removed]",
      "text/plain": [
       "<Figure size 432x288 with 1 Axes>"
      ]
     },
     "metadata": {
      "needs_background": "light"
     },
     "output_type": "display_data"
    }
   ],
   "source": [
    "X=df[\"Year\"]\n",
    "Y=df[\"Count\"]\n",
    "plt.scatter(X,Y)\n",
    "plt.title(\"Scatter Plot\")\n",
    "plt.xlabel(\"Year\")\n",
    "plt.ylabel(\"Count\")\n",
    "plt.show()\n"
   ]
  },
  {
   "cell_type": "code",
   "execution_count": null,
   "metadata": {},
   "outputs": [],
   "source": []
  }
 ],
 "metadata": {
  "kernelspec": {
   "display_name": "Python 3",
   "language": "python",
   "name": "python3"
  },
  "language_info": {
   "codemirror_mode": {
    "name": "ipython",
    "version": 3
   },
   "file_extension": ".py",
   "mimetype": "text/x-python",
   "name": "python",
   "nbconvert_exporter": "python",
   "pygments_lexer": "ipython3",
   "version": "3.8.3"
  }
 },
 "nbformat": 4,
 "nbformat_minor": 4
}
