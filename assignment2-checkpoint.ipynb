{
 "cells": [
  {
   "cell_type": "code",
   "execution_count": 9,
   "metadata": {},
   "outputs": [],
   "source": [
    "import random"
   ]
  },
  {
   "cell_type": "code",
   "execution_count": 10,
   "metadata": {},
   "outputs": [
    {
     "name": "stdout",
     "output_type": "stream",
     "text": [
      "What is your name ?ashwini\n"
     ]
    }
   ],
   "source": [
    "n=input(\"What is your name ?\")"
   ]
  },
  {
   "cell_type": "code",
   "execution_count": 11,
   "metadata": {},
   "outputs": [
    {
     "name": "stdout",
     "output_type": "stream",
     "text": [
      "All the best ashwini\n"
     ]
    }
   ],
   "source": [
    "print(\"All the best\",n)"
   ]
  },
  {
   "cell_type": "code",
   "execution_count": 12,
   "metadata": {},
   "outputs": [],
   "source": [
    "color=('red','pink','blue','brown','yellow','silver','golden','black','white','orange','voilet','purple')"
   ]
  },
  {
   "cell_type": "code",
   "execution_count": 16,
   "metadata": {},
   "outputs": [
    {
     "name": "stdout",
     "output_type": "stream",
     "text": [
      "red\n"
     ]
    }
   ],
   "source": [
    "word=random.choice(color)\n",
    "#print(word)"
   ]
  },
  {
   "cell_type": "code",
   "execution_count": 17,
   "metadata": {},
   "outputs": [
    {
     "name": "stdout",
     "output_type": "stream",
     "text": [
      "Guesses the character in word:\n",
      "-------\n",
      "-------\n",
      "-------\n",
      "Guess the word:r\n",
      "r\n",
      "-------\n",
      "-------\n",
      "Guess the word:e\n",
      "r\n",
      "e\n",
      "-------\n",
      "Guess the word:d\n",
      "r\n",
      "e\n",
      "d\n",
      "Conguratulation you won ashwini\n",
      "The word is red\n"
     ]
    }
   ],
   "source": [
    "print(\"Guesses the character in word:\")\n",
    "guesses=''\n",
    "\n",
    "turn=6\n",
    "while turn>0:\n",
    "    count=0\n",
    "    for char in word:\n",
    "        if char in guesses:\n",
    "            print(char)\n",
    "\n",
    "        else:\n",
    "            print('-------')\n",
    "            count=count+1\n",
    "    \n",
    "    if count==0:\n",
    "            print(\"Conguratulation you won\",n)\n",
    "            print(\"The word is\",word)\n",
    "            break\n",
    "        \n",
    "    guess=input(\"Guess the word:\")\n",
    "    guesses+=guess\n",
    "    \n",
    "    if guess not in word:\n",
    "        turn=turn-1\n",
    "        print(\"Sorry..! you are wrong guess\")\n",
    "        print(\"You have\",+turn,\"more guesses\")\n",
    "        \n",
    "        if turn==0:\n",
    "            print(\"You loose...Sorry\")"
   ]
  },
  {
   "cell_type": "code",
   "execution_count": null,
   "metadata": {},
   "outputs": [],
   "source": []
  }
 ],
 "metadata": {
  "kernelspec": {
   "display_name": "Python 3",
   "language": "python",
   "name": "python3"
  },
  "language_info": {
   "codemirror_mode": {
    "name": "ipython",
    "version": 3
   },
   "file_extension": ".py",
   "mimetype": "text/x-python",
   "name": "python",
   "nbconvert_exporter": "python",
   "pygments_lexer": "ipython3",
   "version": "3.8.3"
  }
 },
 "nbformat": 4,
 "nbformat_minor": 4
}
